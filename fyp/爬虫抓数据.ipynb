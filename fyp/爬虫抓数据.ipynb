{
 "cells": [
  {
   "cell_type": "code",
   "execution_count": null,
   "id": "c623f5f2",
   "metadata": {},
   "outputs": [
    {
     "name": "stdout",
     "output_type": "stream",
     "text": [
      "1000\n",
      "2000\n",
      "3000\n",
      "4000\n",
      "5000\n",
      "循环完毕，共 5000 条数据\n",
      "最终 5000\n",
      "6000\n",
      "7000\n",
      "7903\n",
      "7903\n",
      "7903\n",
      "循环完毕，共 7903 条数据\n",
      "最终 7903\n",
      "8903\n"
     ]
    }
   ],
   "source": [
    "# 准备请求的固定格式代码\n",
    "import requests\n",
    "from bs4 import BeautifulSoup\n",
    "import time\n",
    "from pandas import DataFrame\n",
    "\n",
    "# 请求头，用户表名自己的身份\n",
    "headers = {\n",
    "    'user-agent': 'Mozilla/5.0 (Windows NT 10.0; Win64; x64) AppleWebKit/537.36 (KHTML, like Gecko) Chrome/92.0.4515.107 Safari/537.36'\n",
    "}\n",
    "# 定义首次要访问的链接(这里访问的是一个js异步请求的链接)\n",
    "url = \"https://xueqiu.com/service/v5/stock/screener/quote/list\"\n",
    "# 设置参数 page:页数 size:每页几条数据（可以自己定） order：排序方式 orderby：根据什么排序 可以有两个 market：交易所地点 type：板块 _：时间戳\n",
    "params = {\n",
    "    \"page\":1,\"size\":1000,\"order\":\"desc\",\"orderby\":\"percent\",\"order_by\":\"symbol\",\"market\":\"CN\",\"type\":\"sh_sz\",\"_\":1630408116747\n",
    "}\n",
    "# 定义一个空的列表存储股票信息\n",
    "stock_list = []\n",
    "market_dict = {'CN': 'sh_sz', 'HK': 'hk', 'US': 'us'}\n",
    "for market in market_dict:\n",
    "    page = 0\n",
    "    while True:\n",
    "        page += 1\n",
    "        params['page'] = page\n",
    "        params['market'] = market\n",
    "        params['type'] = market_dict[market]\n",
    "        response = requests.get(url, params=params, headers=headers)\n",
    "        response_json = response.json()\n",
    "        if len(response_json['data']) == 0:\n",
    "            print('循环完毕，共', len(stock_list), '条数据')\n",
    "            break\n",
    "        stock_info = response_json['data']['list']\n",
    "        for stock in stock_info:\n",
    "            stock_detail = {\n",
    "                '交易市场':market,\n",
    "                '股票名称':stock['name'],\n",
    "                '股票代码':stock['symbol'],\n",
    "                '当前价':stock['current'],\n",
    "                '涨跌额':stock['chg'],\n",
    "                '涨跌幅%':stock['percent'],\n",
    "                '年初至今':stock['current_year_percent'],\n",
    "                '成交量':stock['volume'],\n",
    "                '成交额(元)':stock['amount'],\n",
    "                '换手率':stock['turnover_rate'],\n",
    "                '市盈率':stock['pe_ttm'],\n",
    "                '股息率%':stock['dividend_yield'],\n",
    "                '市值(元)':stock['market_capital']\n",
    "            }\n",
    "            stock_list.append(stock_detail)\n",
    "        print(len(stock_list))\n",
    "    # print(stock_hs)\n",
    "    print('最终',len(stock_list))\n",
    "\n",
    "# 写入数据\n",
    "# 为了让每天写入数据时的文件不重名，也为了避免程序多次运行产生多个一样数据的文件，我们给文件名中加入时间年月日时\n",
    "t = time.localtime()\n",
    "df = DataFrame(data=stock_list)\n",
    "# 保存 dataframe\n",
    "file_name = f'stock{t.tm_year}年{t.tm_mon}月{t.tm_mday}日{t.tm_hour}时.csv'\n",
    "df.to_csv(file_name, encoding='utf-8')\n",
    "print('ok')"
   ]
  },
  {
   "cell_type": "code",
   "execution_count": null,
   "id": "b7b9597f",
   "metadata": {},
   "outputs": [],
   "source": []
  }
 ],
 "metadata": {
  "kernelspec": {
   "display_name": "Python 3 (ipykernel)",
   "language": "python",
   "name": "python3"
  },
  "language_info": {
   "codemirror_mode": {
    "name": "ipython",
    "version": 3
   },
   "file_extension": ".py",
   "mimetype": "text/x-python",
   "name": "python",
   "nbconvert_exporter": "python",
   "pygments_lexer": "ipython3",
   "version": "3.11.5"
  }
 },
 "nbformat": 4,
 "nbformat_minor": 5
}
